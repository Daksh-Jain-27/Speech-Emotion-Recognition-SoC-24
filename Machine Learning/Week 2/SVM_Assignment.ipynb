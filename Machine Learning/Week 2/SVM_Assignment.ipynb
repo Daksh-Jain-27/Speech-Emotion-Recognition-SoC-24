{
  "nbformat": 4,
  "nbformat_minor": 0,
  "metadata": {
    "colab": {
      "provenance": []
    },
    "kernelspec": {
      "name": "python3",
      "display_name": "Python 3"
    },
    "language_info": {
      "name": "python"
    }
  },
  "cells": [
    {
      "cell_type": "code",
      "execution_count": 11,
      "metadata": {
        "colab": {
          "base_uri": "https://localhost:8080/"
        },
        "id": "IySco27Yserw",
        "outputId": "eaf40c3d-47e7-407c-da73-cddf308e1cd6"
      },
      "outputs": [
        {
          "output_type": "stream",
          "name": "stdout",
          "text": [
            "Accuracy: 1.0\n"
          ]
        }
      ],
      "source": [
        "# Importing the libraries\n",
        "import numpy as np\n",
        "import pandas as pd\n",
        "from sklearn.model_selection import train_test_split\n",
        "from sklearn.metrics import accuracy_score\n",
        "\n",
        "# Load the dataset\n",
        "data = pd.read_csv('data.csv') # data.csv given in the week2 folder\n",
        "\n",
        "# Dataset has features in columns 'feature1', 'feature2', ... and the target in 'target'\n",
        "X = data[['feature1', 'feature2']].values\n",
        "y = data['target'].values\n",
        "\n",
        "# Split the dataset into training and test sets\n",
        "X_train, X_test, y_train, y_test = train_test_split(X, y, test_size=0.2, random_state=42)\n",
        "\n",
        "class SVM:\n",
        "    def __init__(self, learning_rate=0.001, lmbda=0.01, n_iters=1000):\n",
        "        self.lr = learning_rate\n",
        "        self.lmbda = lmbda\n",
        "        self.n_iters = n_iters\n",
        "        self.w = None\n",
        "        self.b = None\n",
        "\n",
        "    def fit(self, X, y):\n",
        "        n_samples, n_features = X.shape\n",
        "        self.w = np.zeros(n_features)\n",
        "        self.b = 0\n",
        "\n",
        "        y = np.where(y < 0, -1, 1)  # Ensuring the target values are -1 or 1\n",
        "\n",
        "        for _ in range(self.n_iters):\n",
        "            for i, j in enumerate(X):\n",
        "                condition = y[i] * (np.dot(j, self.w) - self.b) >= 1\n",
        "                if condition:\n",
        "                    self.w -= self.lr * (2 * self.lmbda * self.w)\n",
        "                else:\n",
        "                    self.w -= self.lr * (2 * self.lmbda * self.w - np.dot(j, y[i]))\n",
        "                    self.b -= self.lr * y[i]\n",
        "\n",
        "    def predict(self, X):\n",
        "        linear_output = np.dot(X, self.w) - self.b\n",
        "        return np.sign(linear_output)\n",
        "\n",
        "# Initialize and train the SVM\n",
        "svm = SVM(learning_rate=0.001, lmbda=0.01, n_iters=1000)\n",
        "svm.fit(X_train, y_train)\n",
        "\n",
        "# Predictions\n",
        "predictions = svm.predict(X_test)\n",
        "\n",
        "# Evaluate the performance using accuracy_score function imported from sklearn.metrics\n",
        "accuracy = accuracy_score(y_test, predictions)\n",
        "print(\"Accuracy:\", accuracy)\n"
      ]
    },
    {
      "cell_type": "code",
      "source": [],
      "metadata": {
        "id": "-laXojDDx538"
      },
      "execution_count": null,
      "outputs": []
    }
  ]
}