{
  "nbformat": 4,
  "nbformat_minor": 0,
  "metadata": {
    "colab": {
      "provenance": []
    },
    "kernelspec": {
      "name": "python3",
      "display_name": "Python 3"
    },
    "language_info": {
      "name": "python"
    }
  },
  "cells": [
    {
      "cell_type": "code",
      "execution_count": 9,
      "metadata": {
        "id": "RuDGf-eGo4rY"
      },
      "outputs": [],
      "source": [
        "from sklearn.preprocessing import StandardScaler\n",
        "from sklearn.model_selection import train_test_split\n",
        "from sklearn.metrics import accuracy_score\n",
        "from sklearn import datasets\n",
        "import numpy as np"
      ]
    },
    {
      "cell_type": "code",
      "source": [
        "breast_cancer = datasets.load_breast_cancer()\n",
        "X, y = breast_cancer.data, breast_cancer.target"
      ],
      "metadata": {
        "id": "vJ374bsjpMIy"
      },
      "execution_count": 10,
      "outputs": []
    },
    {
      "cell_type": "code",
      "source": [
        "X_train, X_test, y_train, y_test = train_test_split(X, y, test_size=0.2, random_state=1234)\n",
        "sc = StandardScaler()\n",
        "X_train = sc.fit_transform(X_train)\n",
        "X_test = sc.transform(X_test)"
      ],
      "metadata": {
        "id": "gdB4qECOqF35"
      },
      "execution_count": 11,
      "outputs": []
    },
    {
      "cell_type": "code",
      "source": [
        "def BCELoss(y, y_pred):\n",
        "    epsilon = 1e-15  # to prevent log(0)\n",
        "    y_pred = np.clip(y_pred, epsilon, 1 - epsilon)\n",
        "    return -np.mean(y * np.log(y_pred) + (1 - y) * np.log(1 - y_pred))"
      ],
      "metadata": {
        "id": "6wYApZ9xqtTe"
      },
      "execution_count": 12,
      "outputs": []
    },
    {
      "cell_type": "code",
      "source": [
        "def sigmoid(x):\n",
        "    return 1 / (1 + np.exp(-x))\n",
        "\n",
        "class LogisticRegression:\n",
        "    def __init__(self, lr=0.01, iters=1000):\n",
        "        self.lr = lr\n",
        "        self.iters = iters\n",
        "\n",
        "    def fit(self, X, y):\n",
        "        n_samples, n_features = X.shape\n",
        "        self.w = np.zeros(n_features)\n",
        "        self.b = 0\n",
        "        self.X = X\n",
        "        self.y = y\n",
        "\n",
        "        for _ in range(self.iters):\n",
        "            linear_model = np.dot(X, self.w) + self.b\n",
        "            y_pred = sigmoid(linear_model)\n",
        "\n",
        "            dw = (1 / n_features) * np.dot(X.T, (y_pred - y))\n",
        "            db = (1 / n_features) * np.sum(y_pred - y)\n",
        "\n",
        "            self.w -= self.lr * dw\n",
        "            self.b -= self.lr * db\n",
        "\n",
        "    def predict(self, X):\n",
        "        linear_model = np.dot(X, self.w) + self.b\n",
        "        y_pred = sigmoid(linear_model)\n",
        "        y_pred_class = [1 if i > 0.5 else 0 for i in y_pred]\n",
        "        return np.array(y_pred_class)\n",
        "\n",
        "model = LogisticRegression(lr=0.01, iters=1000)\n",
        "model.fit(X_train, y_train)\n",
        "y_pred = model.predict(X_test)\n",
        "\n",
        "accuracy = accuracy_score(y_test, y_pred)\n",
        "print(\"Accuracy:\", accuracy)\n",
        "\n",
        "y_pred_proba = sigmoid(np.dot(X_test, model.w) + model.b)\n",
        "loss = BCELoss(y_test, y_pred_proba)\n",
        "print(\"Binary Cross Entropy Loss:\", loss)"
      ],
      "metadata": {
        "colab": {
          "base_uri": "https://localhost:8080/"
        },
        "id": "DI2yud5XzHIB",
        "outputId": "85b43b92-5b53-4ab8-b6cf-b528c5a17735"
      },
      "execution_count": 20,
      "outputs": [
        {
          "output_type": "stream",
          "name": "stdout",
          "text": [
            "Accuracy: 0.956140350877193\n",
            "Binary Cross Entropy Loss: 0.1594823411681866\n"
          ]
        }
      ]
    },
    {
      "cell_type": "code",
      "source": [],
      "metadata": {
        "id": "UMg1uWuS29na"
      },
      "execution_count": null,
      "outputs": []
    }
  ]
}